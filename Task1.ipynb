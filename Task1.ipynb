{
 "cells": [
  {
   "cell_type": "markdown",
   "metadata": {},
   "source": [
    "# 内容1"
   ]
  },
  {
   "cell_type": "markdown",
   "metadata": {},
   "source": [
    "## 使用anaconda搭建python的环境（跳过第一章，去网络上搜索anaconda3的教程）"
   ]
  },
  {
   "cell_type": "markdown",
   "metadata": {},
   "source": [
    "conda安装：http://www.anaconda.com/download/  \n",
    "\n",
    "根据自己的操作系统，下载安装。  \n",
    "\n",
    "### **Conda环境管理**  \n",
    "\n",
    "**列举环境**：conda info --envs  \n",
    "\n",
    "**创建环境**: conda create -n py27 python=2.7.12  \n",
    "\n",
    "**环境切换**：activate env_name  \n",
    "\n",
    "**退出环境**: deactivte env_name  \n",
    "\n",
    "### **Conda包管理**  \n",
    "\n",
    "**安装anaconda发行版中所有的包:**\n",
    "\n",
    "conda install anaconda  \n",
    "\n",
    "**为某个环境安装包:**\n",
    "\n",
    "conda install -n env_name jupyter  \n",
    "\n",
    "**查看已经安装的package:**\n",
    "\n",
    "conda list  \n",
    "\n",
    "**指定查看某环境下安装的package:**\n",
    "\n",
    "conda list -n env_name  \n",
    "\n",
    "**查找包:** \n",
    "\n",
    "conda search numpy  \n",
    "\n",
    "**更新包:**  \n",
    "\n",
    "conda update matplotlib  \n",
    "\n",
    "conda update anaconda  \n",
    "\n",
    "**卸载包:**  \n",
    "\n",
    "conda remove numpy"
   ]
  },
  {
   "cell_type": "markdown",
   "metadata": {},
   "source": [
    "## 完成系统变量的设置，通过在命令行输入python3检验一下python3有没有装成功。"
   ]
  },
  {
   "cell_type": "markdown",
   "metadata": {},
   "source": [
    "test：  win+R ---> cmd ---> python3"
   ]
  },
  {
   "cell_type": "markdown",
   "metadata": {},
   "source": [
    "## 解释什么是变量，变量命名规则。"
   ]
  },
  {
   "cell_type": "markdown",
   "metadata": {},
   "source": [
    "**什么是变量**：变量的概念基本上和初中代数的方程变量是一致的，只是在计算机程序中，变量不仅可以是数字，还可以是任意数据类型。  \n",
    "**变量命名规则**：  \n",
    "（1）变量名只能包含字母、 数字和下划线。 变量名可以字母或下划线打头， 但不能以数字打头， 例如， 可将变量命名为message_1， 但不能将其命名为1_message。  \n",
    "（2）变量名不能包含空格， 但可使用下划线来分隔其中的单词。 例如， 变量名greeting_message可行， 但变量名greeting message会引发错误。  \n",
    "（3）不要将Python关键字和函数名用作变量名， 即不要使用Python保留用于特殊用途的单词。python中的保留字可以通过以下方法查询：\n",
    "```python\n",
    "import keyword\n",
    "print(keyword.kwlist)\n",
    "```\n",
    "（4）变量名应既简短又具有描述性。 例如， name比n好， student_name比s_n好， name_length比length_of_persons_name好。  \n",
    "（5）慎用小写字母l和大写字母O， 因为它们可能被人错看成数字1和0。  \n",
    "最近在网上看到一个很好的查变量命名的网站：https://unbug.github.io/codelf/  \n"
   ]
  },
  {
   "cell_type": "markdown",
   "metadata": {
    "ExecuteTime": {
     "end_time": "2019-01-02T16:15:45.055523Z",
     "start_time": "2019-01-02T16:15:45.041531Z"
    }
   },
   "source": [
    "## 了解字符串这一数据类型，通过书和搜索整理字符串的方法，包括大小写的转换，合并字符串，删除空白等（strip()）(第二章)"
   ]
  },
  {
   "cell_type": "code",
   "execution_count": 18,
   "metadata": {
    "ExecuteTime": {
     "end_time": "2019-01-02T16:36:53.389357Z",
     "start_time": "2019-01-02T16:36:53.378364Z"
    }
   },
   "outputs": [
    {
     "name": "stdout",
     "output_type": "stream",
     "text": [
      "Hello, My Name Is Leeway\n",
      "HELLO, MY NAME IS LEEWAY\n",
      "hello, my name is leeway\n",
      "hello, my name is Leeway Hou\n",
      "hello,\n",
      "my\n",
      "name\n",
      "is\n",
      "Leeway\n",
      "hello,\n",
      "\tmy\n",
      "\tname\n",
      "\tis\n",
      "\thLeeway\n",
      "     hello, my name is Leeway Hou     \n",
      "hello, my name is Leeway Hou\n"
     ]
    }
   ],
   "source": [
    "MyStr = 'hello, my name is Leeway'\n",
    "#首字母大写\n",
    "print(MyStr.title()) # Hello, My Name Is Leeway\n",
    "#字符串改为全部大写\n",
    "print(MyStr.upper()) #HELLO, MY NAME IS LEEWAY\n",
    "#字符串改为全部小写\n",
    "print(MyStr.lower()) #hello, my name is leeway\n",
    "#拼接字符串\n",
    "last_name = 'Hou'\n",
    "MyStr += ' ' + last_name\n",
    "print(MyStr)\n",
    "#在字符串中添加换行符\n",
    "print('hello,\\nmy\\nname\\nis\\nLeeway')\n",
    "#换到下一行， 并在下一行开头添加一个制表符\n",
    "print('hello,\\n\\tmy\\n\\tname\\n\\tis\\n\\thLeeway')\n",
    "#删除字符串开头与末尾多余的空白\n",
    "MyStr =  '     ' + MyStr + '     '\n",
    "print(MyStr)\n",
    "print(MyStr.strip())\n"
   ]
  },
  {
   "cell_type": "markdown",
   "metadata": {
    "ExecuteTime": {
     "end_time": "2019-01-02T16:37:16.414052Z",
     "start_time": "2019-01-02T16:37:16.410054Z"
    }
   },
   "source": [
    "## 了解基本的转义字符和格式化字符，并整理成文字或者代码。(第二章)"
   ]
  },
  {
   "cell_type": "code",
   "execution_count": 44,
   "metadata": {
    "ExecuteTime": {
     "end_time": "2019-01-02T16:52:52.861666Z",
     "start_time": "2019-01-02T16:52:52.852670Z"
    }
   },
   "outputs": [
    {
     "name": "stdout",
     "output_type": "stream",
     "text": [
      "a b c\n",
      "3+2\n",
      "5\n",
      "12\n",
      "My print is 10\n",
      "My print is 10\n"
     ]
    }
   ],
   "source": [
    "'''字符串格式化\n",
    "      %c\t 格式化字符及其ASCII码  \n",
    "      %s\t 格式化字符串\n",
    "      %d\t 格式化整数\n",
    "      %u\t 格式化无符号整型\n",
    "      %o\t 格式化无符号八进制数\n",
    "      %x\t 格式化无符号十六进制数\n",
    "      %X\t 格式化无符号十六进制数（大写）\n",
    "      %f\t 格式化浮点数字，可指定小数点后的精度\n",
    "      %e\t 用科学计数法格式化浮点数\n",
    "      %E\t 作用同%e，用科学计数法格式化浮点数\n",
    "      %g\t 根据值的大小决定使用%f活%e\n",
    "      %G\t 作用同%g，根据值的大小决定使用%f活%e\n",
    "      %p\t 用十六进制数格式化变量的地址\n",
    "'''\n",
    "print('%c %c %c' % (97,98,99))  #a b c\n",
    "print('%s' % '3+2') # 3+2\n",
    "print('%d' % 5.321) # 5\n",
    "print('%o' % 10) # 12\n",
    "n = 10\n",
    "print('My print is %d' % n)\n",
    "print('My print is %r' % n) #如果我们并不知道自己要打印的是什么类型的信息，这时可以用%r来表示\n",
    "\n",
    "'''转义字符\n",
    "      \\'\t  单引号\n",
    "      \\\"\t  双引号\n",
    "      \\a\t  发出系统响铃声\n",
    "      \\b\t  退格符\n",
    "      \\n\t  换行符\n",
    "      \\t\t  横向制表符\n",
    "      \\v\t  纵向制表符\n",
    "      \\r\t  回车符\n",
    "      \\f\t  换页符\n",
    "      \\o\t  八进制数代表的字符\n",
    "      \\x\t  十六进制数代表的字符\n",
    "      \\000\t  终止符，\\000后的字符串全部忽略\n",
    "\n",
    "'''\n"
   ]
  },
  {
   "cell_type": "markdown",
   "metadata": {},
   "source": [
    "## 了解数字类型，整数和浮点数。(第二章)"
   ]
  },
  {
   "cell_type": "code",
   "execution_count": 54,
   "metadata": {
    "ExecuteTime": {
     "end_time": "2019-01-02T16:58:10.164103Z",
     "start_time": "2019-01-02T16:58:10.154110Z"
    }
   },
   "outputs": [
    {
     "name": "stdout",
     "output_type": "stream",
     "text": [
      "5\n",
      "1\n",
      "12\n",
      "1.5\n",
      "9\n",
      "81\n",
      "-7\n",
      "0.2\n",
      "0.30000000000000004\n"
     ]
    }
   ],
   "source": [
    "# 整数\n",
    "print(2+3)\n",
    "print(3-2)\n",
    "print(3*4)\n",
    "print(3/2)\n",
    "print(3**2)\n",
    "print(3**4)\n",
    "print(3-2*5)\n",
    "#浮点数\n",
    "print(0.1+0.1)\n",
    "print(0.1*3) #0.30000000000000004 暂时忽略多余的小数位数即可"
   ]
  },
  {
   "cell_type": "markdown",
   "metadata": {},
   "source": [
    "## 如何添加注释(第二章)"
   ]
  },
  {
   "cell_type": "code",
   "execution_count": 58,
   "metadata": {
    "ExecuteTime": {
     "end_time": "2019-01-02T17:02:06.310183Z",
     "start_time": "2019-01-02T17:02:06.304186Z"
    }
   },
   "outputs": [
    {
     "data": {
      "text/plain": [
       "'\\n多行注释\\n'"
      ]
     },
     "execution_count": 58,
     "metadata": {},
     "output_type": "execute_result"
    }
   ],
   "source": [
    "# 注释用井号（# ） 标识\n",
    "'''\n",
    "多行注释\n",
    "'''"
   ]
  },
  {
   "cell_type": "markdown",
   "metadata": {},
   "source": [
    "# 内容2"
   ]
  },
  {
   "cell_type": "markdown",
   "metadata": {},
   "source": [
    "## 了解列表数据类型。(第三章)"
   ]
  },
  {
   "cell_type": "code",
   "execution_count": 62,
   "metadata": {
    "ExecuteTime": {
     "end_time": "2019-01-02T17:05:38.685506Z",
     "start_time": "2019-01-02T17:05:38.678509Z"
    }
   },
   "outputs": [
    {
     "name": "stdout",
     "output_type": "stream",
     "text": [
      "[1, 4, 5, 9, 'None']\n",
      "5\n",
      "none\n"
     ]
    }
   ],
   "source": [
    "LuckyNum = [1,4,5,9,'None']\n",
    "print(LuckyNum)   #[1, 4, 5, 9]\n",
    "print(LuckyNum[2])  #5\n",
    "print(LuckyNum[4].lower()) #none\n",
    "print(list(\"hello\")) #将字符串转换为列表"
   ]
  },
  {
   "cell_type": "markdown",
   "metadata": {},
   "source": [
    "## 完成列表的增删查改（增加，删除，查找，修改）。"
   ]
  },
  {
   "cell_type": "code",
   "execution_count": 77,
   "metadata": {
    "ExecuteTime": {
     "end_time": "2019-01-02T17:31:41.476533Z",
     "start_time": "2019-01-02T17:31:41.461542Z"
    },
    "scrolled": true
   },
   "outputs": [
    {
     "name": "stdout",
     "output_type": "stream",
     "text": [
      "[1, 4, 5, 9, 'None', '10']\n",
      "[1, 3, 4, 5, 9, 'None', '10']\n",
      "[3, 4, 5, 9, 'None', '10']\n",
      "[3, 4, 5, 9, 'None']\n",
      "10\n",
      "[4, 5, 9, 'None']\n",
      "[5, 9, 'None']\n",
      "True\n",
      "False\n",
      "1\n",
      "0\n",
      "[1, 0, 3, 4, 5]\n"
     ]
    }
   ],
   "source": [
    "LuckyNum = [1,4,5,9,'None']\n",
    "\n",
    "#增\n",
    "LuckyNum.append('10')   #将元素附加到列表末尾\n",
    "print(LuckyNum) #[1, 4, 5, 9, 'None', '10']\n",
    "LuckyNum.insert(1,3)  #在列表的任何位置添加新元素\n",
    "print(LuckyNum) #[1, 3, 4, 5, 9, 'None', '10']\n",
    "\n",
    "#删\n",
    "del LuckyNum[0]    #根据索引删除任何位置处的列表元素\n",
    "print(LuckyNum)   #[3, 4, 5, 9, 'None', '10']\n",
    "poped_Num = LuckyNum.pop()  #删除列表末尾的元素， 并让你能够接着使用它\n",
    "print(LuckyNum)    #[3, 4, 5, 9, 'None']\n",
    "print(poped_Num)   #'10'\n",
    "LuckyNum.pop(0)   #使用pop() 来删除列表中任何位置的元素， 只需在括号中指定要删除的元素的索引即可\n",
    "print(LuckyNum)   #[4, 5, 9, 'None']\n",
    "LuckyNum.remove(4)   #根据值删除元素 且只删除第一个指定的值\n",
    "print(LuckyNum)  #[5, 9, 'None']\n",
    "\n",
    "#查\n",
    "#四种方式：in、not in、count、index前两种方法是保留字，后两种方式是列表的方法。\n",
    "a_list = ['a','b','c','hello']\n",
    "print('a' in a_list)   #True\n",
    "print('a' not in a_list) #False\n",
    "print(a_list.count('a')) #1\n",
    "print(a_list.index('a'))  #0\n",
    "\n",
    "#改\n",
    "x = [1,2,3,4,5]\n",
    "x[1]=0\n",
    "print(x)  #[1, 0, 3, 4, 5]"
   ]
  },
  {
   "cell_type": "markdown",
   "metadata": {},
   "source": [
    "## 了解列表的排序，比较sorted和sort两个函数。(第三章)"
   ]
  },
  {
   "cell_type": "code",
   "execution_count": 86,
   "metadata": {
    "ExecuteTime": {
     "end_time": "2019-01-02T17:39:07.978033Z",
     "start_time": "2019-01-02T17:39:07.970038Z"
    }
   },
   "outputs": [
    {
     "name": "stdout",
     "output_type": "stream",
     "text": [
      "[1, 2, 2, 3, 4, 6, 7, 9, 12, 24, 66]\n",
      "[1, 4, 2, 7, 3, 6, 2, 9, 12, 66, 24]\n",
      "[1, 2, 2, 3, 4, 6, 7, 9, 12, 24, 66]\n"
     ]
    }
   ],
   "source": [
    "NewList = [1,4,2,7,3,6,2,9,12,66,24]\n",
    "print(sorted(NewList))  #调用函数sorted() 后， 列表元素的排列顺序并没有变\n",
    "print(NewList)  #[1, 4, 2, 7, 3, 6, 2, 9, 12, 66, 24]\n",
    "NewList.sort()   #永久性地修改了列表元素的排列顺序\n",
    "print(NewList) "
   ]
  },
  {
   "cell_type": "markdown",
   "metadata": {},
   "source": [
    "## 了解列表的方法，sort(),reverse()等。(附加题：了解sort()函数里的key参数，并实现一个列表的排序[[“a”,1],[“b”,0],[“c”,3]],要求变成[[“b”,0],[“a”,1],[“c”,3]])。(第三章)"
   ]
  },
  {
   "cell_type": "code",
   "execution_count": 93,
   "metadata": {
    "ExecuteTime": {
     "end_time": "2019-01-02T17:50:36.982503Z",
     "start_time": "2019-01-02T17:50:36.972509Z"
    }
   },
   "outputs": [
    {
     "name": "stdout",
     "output_type": "stream",
     "text": [
      "[1, 2, 2, 3, 4, 6, 7, 9, 12, 24, 66]\n",
      "[66, 24, 12, 9, 7, 6, 4, 3, 2, 2, 1]\n",
      "11\n",
      "['This', 'is', 'a', 'test', 'string', 'from', 'Leeway']\n",
      "[['b', 0], ['a', 1], ['c', 3]]\n"
     ]
    }
   ],
   "source": [
    "NewList = [1,4,2,7,3,6,2,9,12,66,24]\n",
    "NewList.sort() \n",
    "print(NewList)   #[1, 2, 2, 3, 4, 6, 7, 9, 12, 24, 66]\n",
    "NewList.reverse()   # 永久性地修改列表元素的排列顺序\n",
    "print(NewList)  #[66, 24, 12, 9, 7, 6, 4, 3, 2, 2, 1]\n",
    "print(len(NewList))  #11   列表的长度\n",
    "print(\"This is a test string from Leeway\".split())   #['This', 'is', 'a', 'test', 'string', 'from', 'Leeway']\n",
    "\n",
    "# key：用列表元素的某个属性或函数进行作为关键字，有默认值，迭代集合中的一项;\n",
    "# sort(key=None, reverse=False)\n",
    "L = [[\"a\",1],[\"b\",0],[\"c\",3]]\n",
    "L.sort(key = lambda x:x[1])\n",
    "print(L)    #[['b', 0], ['a', 1], ['c', 3]]\n",
    "'''\n",
    "在排序之前，Lt里的所有元素都会执行key的函数，这里指的就是lambda函数，\n",
    "计算出值之后，赋值给key，然后sort()是针对key进行排序，然后再根据这个key对应的值替换到排好序的L里。\n",
    "'''"
   ]
  },
  {
   "cell_type": "markdown",
   "metadata": {},
   "source": [
    "## 了解循环，实现简单的遍历列表"
   ]
  },
  {
   "cell_type": "code",
   "execution_count": 94,
   "metadata": {
    "ExecuteTime": {
     "end_time": "2019-01-02T17:55:31.137173Z",
     "start_time": "2019-01-02T17:55:31.132179Z"
    }
   },
   "outputs": [
    {
     "name": "stdout",
     "output_type": "stream",
     "text": [
      "red\n",
      "pink\n",
      "green\n",
      "blue\n"
     ]
    }
   ],
   "source": [
    "Colors = ['red','pink','green','blue']\n",
    "for i in Colors:\n",
    "    print(i)"
   ]
  },
  {
   "cell_type": "markdown",
   "metadata": {},
   "source": [
    "## 了解range函数，并实现创建列表，解析列表。(第四章)"
   ]
  },
  {
   "cell_type": "code",
   "execution_count": 103,
   "metadata": {
    "ExecuteTime": {
     "end_time": "2019-01-02T18:03:28.966357Z",
     "start_time": "2019-01-02T18:03:28.951369Z"
    },
    "scrolled": true
   },
   "outputs": [
    {
     "name": "stdout",
     "output_type": "stream",
     "text": [
      "1\n",
      "2\n",
      "3\n",
      "4\n",
      "[1, 2, 3, 4, 5]\n",
      "[2, 4, 6, 8, 10]\n",
      "[1, 4, 9, 16, 25, 36, 49, 64, 81, 100]\n",
      "100\n",
      "1\n",
      "385\n",
      "[1, 4, 9, 16, 25, 36, 49, 64, 81, 100]\n"
     ]
    }
   ],
   "source": [
    "# range() 可以生成一系列的数字\n",
    "for i in range(1,5):   #前闭后开\n",
    "    print(i)   \n",
    "    \n",
    "print(list(range(1,6)))   #[1, 2, 3, 4, 5]\n",
    "print(list(range(2,11,2)))  #[2, 4, 6, 8, 10]\n",
    "\n",
    "#使用函数range() 几乎能够创建任何需要的数字集\n",
    "squares = []\n",
    "for value in range(1,11):\n",
    "    square = value**2\n",
    "    squares.append(square)\n",
    "print(squares)    #[1, 4, 9, 16, 25, 36, 49, 64, 81, 100]\n",
    "print(max(squares)) #100\n",
    "print(min(squares))  #1\n",
    "print(sum(squares))  #385\n",
    "\n",
    "#前面介绍的生成列表squares 的方式包含三四行代码， 而列表解析让你只需编写一行代码就能生成这样的列表。 \n",
    "squares = [value**2 for value in range(1,11)]\n",
    "print(squares)  #[1, 4, 9, 16, 25, 36, 49, 64, 81, 100]"
   ]
  },
  {
   "cell_type": "markdown",
   "metadata": {},
   "source": [
    "## 了解切片并使用切片。(第四章)"
   ]
  },
  {
   "cell_type": "code",
   "execution_count": 108,
   "metadata": {
    "ExecuteTime": {
     "end_time": "2019-01-02T18:07:06.887818Z",
     "start_time": "2019-01-02T18:07:06.878823Z"
    }
   },
   "outputs": [
    {
     "name": "stdout",
     "output_type": "stream",
     "text": [
      "[1, 4, 9]\n",
      "[4, 9, 16]\n",
      "[1, 4, 9, 16]\n",
      "[25, 36, 49, 64, 81, 100]\n",
      "[49, 64, 81, 100]\n"
     ]
    }
   ],
   "source": [
    "squares = [1, 4, 9, 16, 25, 36, 49, 64, 81, 100]\n",
    "print(squares[0:3])  #[1, 4, 9]\n",
    "print(squares[1:4]) #[4, 9, 16]\n",
    "print(squares[:4]) #[1, 4, 9, 16]\n",
    "print(squares[4:]) #[25, 36, 49, 64, 81, 100]\n",
    "print(squares[-4:]) #[49, 64, 81, 100]"
   ]
  },
  {
   "cell_type": "code",
   "execution_count": null,
   "metadata": {},
   "outputs": [],
   "source": []
  }
 ],
 "metadata": {
  "kernelspec": {
   "display_name": "Python 3",
   "language": "python",
   "name": "python3"
  },
  "language_info": {
   "codemirror_mode": {
    "name": "ipython",
    "version": 3
   },
   "file_extension": ".py",
   "mimetype": "text/x-python",
   "name": "python",
   "nbconvert_exporter": "python",
   "pygments_lexer": "ipython3",
   "version": "3.7.2"
  },
  "toc": {
   "base_numbering": 1,
   "nav_menu": {},
   "number_sections": true,
   "sideBar": true,
   "skip_h1_title": false,
   "title_cell": "Table of Contents",
   "title_sidebar": "Contents",
   "toc_cell": false,
   "toc_position": {},
   "toc_section_display": true,
   "toc_window_display": false
  }
 },
 "nbformat": 4,
 "nbformat_minor": 2
}
